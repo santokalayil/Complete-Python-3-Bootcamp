{
  "nbformat": 4,
  "nbformat_minor": 0,
  "metadata": {
    "colab": {
      "name": "trying book.ipynb",
      "version": "0.3.2",
      "provenance": [],
      "include_colab_link": true
    },
    "language_info": {
      "codemirror_mode": {
        "name": "ipython",
        "version": 3
      },
      "file_extension": ".py",
      "mimetype": "text/x-python",
      "name": "python",
      "nbconvert_exporter": "python",
      "pygments_lexer": "ipython3",
      "version": "3.7.3"
    },
    "kernelspec": {
      "display_name": "Python 3",
      "language": "python",
      "name": "python3"
    }
  },
  "cells": [
    {
      "cell_type": "markdown",
      "metadata": {
        "id": "view-in-github",
        "colab_type": "text"
      },
      "source": [
        "<a href=\"https://colab.research.google.com/github/santokalayil/Complete-Python-3-Bootcamp/blob/master/trying_book.ipynb\" target=\"_parent\"><img src=\"https://colab.research.google.com/assets/colab-badge.svg\" alt=\"Open In Colab\"/></a>"
      ]
    },
    {
      "cell_type": "code",
      "metadata": {
        "id": "voTltB5jcrCI",
        "colab_type": "code",
        "colab": {},
        "outputId": "bb32f86b-bf11-4021-cf77-fd88dbbb1800"
      },
      "source": [
        "f = \"santo\"\n",
        "print (f)\n",
        "\n",
        "g = \"0\"\n",
        "print (g)"
      ],
      "execution_count": 0,
      "outputs": [
        {
          "output_type": "stream",
          "text": [
            "santo\n",
            "0\n"
          ],
          "name": "stdout"
        }
      ]
    },
    {
      "cell_type": "code",
      "metadata": {
        "id": "puF5QYQJcrCS",
        "colab_type": "code",
        "colab": {},
        "outputId": "3e2c0aa4-4e26-435d-af3c-ce9c005bed80"
      },
      "source": [
        "print(f+g)"
      ],
      "execution_count": 0,
      "outputs": [
        {
          "output_type": "stream",
          "text": [
            "santo0\n"
          ],
          "name": "stdout"
        }
      ]
    },
    {
      "cell_type": "code",
      "metadata": {
        "id": "6eWFs9mvcrCW",
        "colab_type": "code",
        "colab": {},
        "outputId": "0d4a5315-30ba-42b6-82af-d2b000adb46d"
      },
      "source": [
        "print(\"santo\",\"kalayil\")"
      ],
      "execution_count": 0,
      "outputs": [
        {
          "output_type": "stream",
          "text": [
            "santo kalayil\n"
          ],
          "name": "stdout"
        }
      ]
    },
    {
      "cell_type": "code",
      "metadata": {
        "id": "cBAZzUBIcrCa",
        "colab_type": "code",
        "colab": {},
        "outputId": "e8fe0006-0a71-434c-9728-8b3f8f3bd638"
      },
      "source": [
        "print(f,g)"
      ],
      "execution_count": 0,
      "outputs": [
        {
          "output_type": "stream",
          "text": [
            "santo 0\n"
          ],
          "name": "stdout"
        }
      ]
    },
    {
      "cell_type": "code",
      "metadata": {
        "id": "IlaUjHM5crCd",
        "colab_type": "code",
        "colab": {},
        "outputId": "24e76424-cba2-4d57-f6fc-5f3617de26b8"
      },
      "source": [
        "a = 1\n",
        "b = \"santo\"\n",
        "print(a+int(b))"
      ],
      "execution_count": 0,
      "outputs": [
        {
          "output_type": "error",
          "ename": "ValueError",
          "evalue": "invalid literal for int() with base 10: 'santo'",
          "traceback": [
            "\u001b[1;31m---------------------------------------------------------------------------\u001b[0m",
            "\u001b[1;31mValueError\u001b[0m                                Traceback (most recent call last)",
            "\u001b[1;32m<ipython-input-14-2c267a74b8a4>\u001b[0m in \u001b[0;36m<module>\u001b[1;34m\u001b[0m\n\u001b[0;32m      1\u001b[0m \u001b[0ma\u001b[0m \u001b[1;33m=\u001b[0m \u001b[1;36m1\u001b[0m\u001b[1;33m\u001b[0m\u001b[1;33m\u001b[0m\u001b[0m\n\u001b[0;32m      2\u001b[0m \u001b[0mb\u001b[0m \u001b[1;33m=\u001b[0m \u001b[1;34m\"santo\"\u001b[0m\u001b[1;33m\u001b[0m\u001b[1;33m\u001b[0m\u001b[0m\n\u001b[1;32m----> 3\u001b[1;33m \u001b[0mprint\u001b[0m\u001b[1;33m(\u001b[0m\u001b[0ma\u001b[0m\u001b[1;33m+\u001b[0m\u001b[0mint\u001b[0m\u001b[1;33m(\u001b[0m\u001b[0mb\u001b[0m\u001b[1;33m)\u001b[0m\u001b[1;33m)\u001b[0m\u001b[1;33m\u001b[0m\u001b[1;33m\u001b[0m\u001b[0m\n\u001b[0m",
            "\u001b[1;31mValueError\u001b[0m: invalid literal for int() with base 10: 'santo'"
          ]
        }
      ]
    },
    {
      "cell_type": "code",
      "metadata": {
        "id": "Lz6p-aw9crCh",
        "colab_type": "code",
        "colab": {},
        "outputId": "687cd71c-fe5d-4c56-9fbe-f8398d92c84d"
      },
      "source": [
        "print(str(a), b) # look I can convert it to a string and add"
      ],
      "execution_count": 0,
      "outputs": [
        {
          "output_type": "stream",
          "text": [
            "1 santo\n"
          ],
          "name": "stdout"
        }
      ]
    },
    {
      "cell_type": "code",
      "metadata": {
        "id": "Y2VmAGY7crCk",
        "colab_type": "code",
        "colab": {},
        "outputId": "3f69e2da-9778-4f07-86aa-caea49839c3e"
      },
      "source": [
        "\n",
        "print(str(a)+ b) # look I can convert it to a string and concardinate"
      ],
      "execution_count": 0,
      "outputs": [
        {
          "output_type": "stream",
          "text": [
            "1santo\n"
          ],
          "name": "stdout"
        }
      ]
    },
    {
      "cell_type": "code",
      "metadata": {
        "id": "06z8NpPocrCp",
        "colab_type": "code",
        "colab": {},
        "outputId": "123fd87f-0730-42e7-8ca2-9f6954232d37"
      },
      "source": [
        "c = \"d\"\n",
        "d = 1\n",
        "print(int(c), d)"
      ],
      "execution_count": 0,
      "outputs": [
        {
          "output_type": "error",
          "ename": "ValueError",
          "evalue": "invalid literal for int() with base 10: 'd'",
          "traceback": [
            "\u001b[1;31m---------------------------------------------------------------------------\u001b[0m",
            "\u001b[1;31mValueError\u001b[0m                                Traceback (most recent call last)",
            "\u001b[1;32m<ipython-input-20-70145bc753bf>\u001b[0m in \u001b[0;36m<module>\u001b[1;34m\u001b[0m\n\u001b[0;32m      1\u001b[0m \u001b[0mc\u001b[0m \u001b[1;33m=\u001b[0m \u001b[1;34m\"d\"\u001b[0m\u001b[1;33m\u001b[0m\u001b[1;33m\u001b[0m\u001b[0m\n\u001b[0;32m      2\u001b[0m \u001b[0md\u001b[0m \u001b[1;33m=\u001b[0m \u001b[1;36m1\u001b[0m\u001b[1;33m\u001b[0m\u001b[1;33m\u001b[0m\u001b[0m\n\u001b[1;32m----> 3\u001b[1;33m \u001b[0mprint\u001b[0m\u001b[1;33m(\u001b[0m\u001b[0mint\u001b[0m\u001b[1;33m(\u001b[0m\u001b[0mc\u001b[0m\u001b[1;33m)\u001b[0m\u001b[1;33m,\u001b[0m \u001b[0md\u001b[0m\u001b[1;33m)\u001b[0m\u001b[1;33m\u001b[0m\u001b[1;33m\u001b[0m\u001b[0m\n\u001b[0m",
            "\u001b[1;31mValueError\u001b[0m: invalid literal for int() with base 10: 'd'"
          ]
        }
      ]
    },
    {
      "cell_type": "code",
      "metadata": {
        "id": "i0hXVE-YcrCv",
        "colab_type": "code",
        "colab": {},
        "outputId": "41271d0c-aa2d-46f5-e7c5-98a0227154f8"
      },
      "source": [
        "c = d\n",
        "d = 1\n",
        "print(int(c))"
      ],
      "execution_count": 0,
      "outputs": [
        {
          "output_type": "error",
          "ename": "NameError",
          "evalue": "name 'd' is not defined",
          "traceback": [
            "\u001b[1;31m---------------------------------------------------------------------------\u001b[0m",
            "\u001b[1;31mNameError\u001b[0m                                 Traceback (most recent call last)",
            "\u001b[1;32m<ipython-input-19-003b5f37b12a>\u001b[0m in \u001b[0;36m<module>\u001b[1;34m\u001b[0m\n\u001b[1;32m----> 1\u001b[1;33m \u001b[0mc\u001b[0m \u001b[1;33m=\u001b[0m \u001b[0md\u001b[0m\u001b[1;33m\u001b[0m\u001b[1;33m\u001b[0m\u001b[0m\n\u001b[0m\u001b[0;32m      2\u001b[0m \u001b[0md\u001b[0m \u001b[1;33m=\u001b[0m \u001b[1;36m1\u001b[0m\u001b[1;33m\u001b[0m\u001b[1;33m\u001b[0m\u001b[0m\n\u001b[0;32m      3\u001b[0m \u001b[0mprint\u001b[0m\u001b[1;33m(\u001b[0m\u001b[0mint\u001b[0m\u001b[1;33m(\u001b[0m\u001b[0mc\u001b[0m\u001b[1;33m)\u001b[0m\u001b[1;33m)\u001b[0m\u001b[1;33m\u001b[0m\u001b[1;33m\u001b[0m\u001b[0m\n",
            "\u001b[1;31mNameError\u001b[0m: name 'd' is not defined"
          ]
        }
      ]
    },
    {
      "cell_type": "code",
      "metadata": {
        "id": "3rxqPOtjcrCz",
        "colab_type": "code",
        "colab": {},
        "outputId": "4322e67f-fb19-4103-d3bf-f425018567fd"
      },
      "source": [
        "# Declare a variable and initialize it\n",
        "f = 101\n",
        "print(f)\n",
        "# Global vs. local variables in functions\n",
        "def someFunction():\n",
        "# global f\n",
        "    f = 'I am learning Python'\n",
        "    print(f)\n",
        "someFunction()\n",
        "print(f)"
      ],
      "execution_count": 0,
      "outputs": [
        {
          "output_type": "stream",
          "text": [
            "101\n",
            "I am learning Python\n",
            "101\n"
          ],
          "name": "stdout"
        }
      ]
    },
    {
      "cell_type": "code",
      "metadata": {
        "id": "IMc1-T2gcrC2",
        "colab_type": "code",
        "colab": {},
        "outputId": "e6fd18db-4fc2-418a-aa4b-ecda18ac459d"
      },
      "source": [
        "#this is string slicing in Python\n",
        "e = \"santo\"\n",
        "f = \"kalyil\"\n",
        "print (e[0])\n",
        "print (f[1:5])"
      ],
      "execution_count": 0,
      "outputs": [
        {
          "output_type": "stream",
          "text": [
            "s\n",
            "alyi\n"
          ],
          "name": "stdout"
        }
      ]
    },
    {
      "cell_type": "code",
      "metadata": {
        "id": "i9NncT-8crC6",
        "colab_type": "code",
        "colab": {},
        "outputId": "7b46daaf-bb3a-4cdb-c132-228714457b24"
      },
      "source": [
        "print(\"a\" in e)"
      ],
      "execution_count": 0,
      "outputs": [
        {
          "output_type": "stream",
          "text": [
            "True\n"
          ],
          "name": "stdout"
        }
      ]
    },
    {
      "cell_type": "code",
      "metadata": {
        "id": "odqBau-tcrC9",
        "colab_type": "code",
        "colab": {},
        "outputId": "1e639483-efa4-4cd9-b7e3-83ee6e6ab228"
      },
      "source": [
        "print(\"l\" in e)"
      ],
      "execution_count": 0,
      "outputs": [
        {
          "output_type": "stream",
          "text": [
            "False\n"
          ],
          "name": "stdout"
        }
      ]
    },
    {
      "cell_type": "code",
      "metadata": {
        "id": "jelsyf7BcrDC",
        "colab_type": "code",
        "colab": {},
        "outputId": "5e6d604a-b497-47b2-815d-f1f23a555c2e"
      },
      "source": [
        "bool(0)"
      ],
      "execution_count": 0,
      "outputs": [
        {
          "output_type": "execute_result",
          "data": {
            "text/plain": [
              "False"
            ]
          },
          "metadata": {
            "tags": []
          },
          "execution_count": 27
        }
      ]
    },
    {
      "cell_type": "code",
      "metadata": {
        "id": "4Zwg64Y6crDI",
        "colab_type": "code",
        "colab": {},
        "outputId": "9e6d4777-bed5-40f5-ceac-1575210aba95"
      },
      "source": [
        "bool(1)"
      ],
      "execution_count": 0,
      "outputs": [
        {
          "output_type": "execute_result",
          "data": {
            "text/plain": [
              "True"
            ]
          },
          "metadata": {
            "tags": []
          },
          "execution_count": 28
        }
      ]
    },
    {
      "cell_type": "code",
      "metadata": {
        "id": "JVuPti5ucrDN",
        "colab_type": "code",
        "colab": {},
        "outputId": "abcaf2fe-7c48-4237-98d9-338c4346c03a"
      },
      "source": [
        "bool(6)"
      ],
      "execution_count": 0,
      "outputs": [
        {
          "output_type": "execute_result",
          "data": {
            "text/plain": [
              "True"
            ]
          },
          "metadata": {
            "tags": []
          },
          "execution_count": 29
        }
      ]
    },
    {
      "cell_type": "code",
      "metadata": {
        "id": "Tu_PGouDcrDQ",
        "colab_type": "code",
        "colab": {},
        "outputId": "2d8641a7-389b-4f0d-ca84-190c883dd4c7"
      },
      "source": [
        "#slicing......\n",
        "print(e[0])"
      ],
      "execution_count": 0,
      "outputs": [
        {
          "output_type": "stream",
          "text": [
            "s\n"
          ],
          "name": "stdout"
        }
      ]
    },
    {
      "cell_type": "code",
      "metadata": {
        "id": "Y0-xHXoMcrDW",
        "colab_type": "code",
        "colab": {},
        "outputId": "c546b7ff-288c-43b6-934a-c897a59f8d59"
      },
      "source": [
        "print(e[0:3])"
      ],
      "execution_count": 0,
      "outputs": [
        {
          "output_type": "stream",
          "text": [
            "san\n"
          ],
          "name": "stdout"
        }
      ]
    },
    {
      "cell_type": "code",
      "metadata": {
        "id": "gffvOe95crDc",
        "colab_type": "code",
        "colab": {},
        "outputId": "69005dec-ce60-4d4d-da3b-4aab0e859e03"
      },
      "source": [
        "print(e[0::-1])"
      ],
      "execution_count": 0,
      "outputs": [
        {
          "output_type": "stream",
          "text": [
            "s\n"
          ],
          "name": "stdout"
        }
      ]
    },
    {
      "cell_type": "code",
      "metadata": {
        "id": "KIg-ZRngcrDg",
        "colab_type": "code",
        "colab": {},
        "outputId": "5128ddda-fed3-451c-e7a2-ff9ff85ac5a4"
      },
      "source": [
        "print(e[0:])"
      ],
      "execution_count": 0,
      "outputs": [
        {
          "output_type": "stream",
          "text": [
            "santo\n"
          ],
          "name": "stdout"
        }
      ]
    },
    {
      "cell_type": "code",
      "metadata": {
        "id": "2Jpn9gaCcrDj",
        "colab_type": "code",
        "colab": {},
        "outputId": "c0e23434-9341-4c06-e06a-471b5504d6da"
      },
      "source": [
        "print(e[::-1]) #reversing string"
      ],
      "execution_count": 0,
      "outputs": [
        {
          "output_type": "stream",
          "text": [
            "otnas\n"
          ],
          "name": "stdout"
        }
      ]
    },
    {
      "cell_type": "code",
      "metadata": {
        "id": "WJYr5DR4crDn",
        "colab_type": "code",
        "colab": {},
        "outputId": "7507fa76-9d97-4982-a75d-7f24d0b88909"
      },
      "source": [
        "#reversing in anotherway\n",
        "print(''.join(reversed(e)))"
      ],
      "execution_count": 0,
      "outputs": [
        {
          "output_type": "stream",
          "text": [
            "otnas\n"
          ],
          "name": "stdout"
        }
      ]
    },
    {
      "cell_type": "code",
      "metadata": {
        "id": "Y1SBHHlLcrDq",
        "colab_type": "code",
        "colab": {},
        "outputId": "4017684f-30b5-4ef2-d05d-63ae38273971"
      },
      "source": [
        "print(''.join(e))"
      ],
      "execution_count": 0,
      "outputs": [
        {
          "output_type": "stream",
          "text": [
            "santo\n"
          ],
          "name": "stdout"
        }
      ]
    },
    {
      "cell_type": "code",
      "metadata": {
        "id": "tYnJTwdXcrDt",
        "colab_type": "code",
        "colab": {}
      },
      "source": [
        ""
      ],
      "execution_count": 0,
      "outputs": []
    }
  ]
}